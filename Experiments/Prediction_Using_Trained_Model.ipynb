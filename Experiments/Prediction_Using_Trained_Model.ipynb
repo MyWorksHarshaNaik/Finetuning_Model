{
 "cells": [
  {
   "cell_type": "code",
   "execution_count": 2,
   "metadata": {},
   "outputs": [],
   "source": [
    "import numpy as np\n",
    "import cv2\n",
    "from tensorflow.keras.models import load_model"
   ]
  },
  {
   "cell_type": "code",
   "execution_count": 4,
   "metadata": {},
   "outputs": [
    {
     "name": "stdout",
     "output_type": "stream",
     "text": [
      "1/1 [==============================] - 0s 231ms/step\n",
      "1/1 [==============================] - 0s 23ms/step\n",
      "Image: ../dataset/UTKFace/1_0_0_20170110211538942.jpg.chip.jpg, Predicted Age: 1\n",
      "Image: ../dataset/UTKFace/28_1_4_20170103235832524.jpg.chip.jpg, Predicted Age: 34\n"
     ]
    }
   ],
   "source": [
    "\n",
    "def test_images(image_paths, model_path):\n",
    "    # Load the model\n",
    "    model = load_model(model_path)\n",
    "    \n",
    "    # Dictionary to store predictions\n",
    "    predictions = {}\n",
    "    \n",
    "    for image_path in image_paths:\n",
    "        # Load and preprocess the image\n",
    "        img = cv2.imread(image_path)\n",
    "        img = cv2.resize(img, (48, 48)) / 255.0\n",
    "        img = np.expand_dims(img, axis=0)  # Add batch dimension\n",
    "        \n",
    "        # Predict the age\n",
    "        predicted_age = model.predict(img)\n",
    "        predictions[image_path] = predicted_age[0][0]  # Extract age from prediction\n",
    "    \n",
    "    return predictions\n",
    "\n",
    "path1 = \"../dataset/UTKFace/1_0_0_20170110211538942.jpg.chip.jpg\"\n",
    "path2 = \"../dataset/UTKFace/28_1_4_20170103235832524.jpg.chip.jpg\"\n",
    "\n",
    "model_path = \"../models/finetuned_model1.h5\"\n",
    "\n",
    "image_list = [path1, path2]  \n",
    "\n",
    "results = test_images(image_list, model_path)\n",
    "\n",
    "# Print Predictions\n",
    "for image, age in results.items():\n",
    "    print(f\"Image: {image}, Predicted Age: {int(age)}\")"
   ]
  },
  {
   "cell_type": "code",
   "execution_count": null,
   "metadata": {},
   "outputs": [],
   "source": []
  }
 ],
 "metadata": {
  "kernelspec": {
   "display_name": "tengpu",
   "language": "python",
   "name": "python3"
  },
  "language_info": {
   "codemirror_mode": {
    "name": "ipython",
    "version": 3
   },
   "file_extension": ".py",
   "mimetype": "text/x-python",
   "name": "python",
   "nbconvert_exporter": "python",
   "pygments_lexer": "ipython3",
   "version": "3.10.14"
  }
 },
 "nbformat": 4,
 "nbformat_minor": 2
}
